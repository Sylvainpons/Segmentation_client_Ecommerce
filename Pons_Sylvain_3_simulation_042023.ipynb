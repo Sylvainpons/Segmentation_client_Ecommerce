{
 "cells": [
  {
   "cell_type": "code",
   "execution_count": 1,
   "id": "b9c6ca66",
   "metadata": {},
   "outputs": [],
   "source": [
    "import pandas as pd\n",
    "import os\n",
    "import matplotlib.pyplot as plt\n",
    "import seaborn as sns\n",
    "import missingno as msno\n",
    "import numpy as np"
   ]
  },
  {
   "cell_type": "code",
   "execution_count": 2,
   "id": "8278538b",
   "metadata": {},
   "outputs": [],
   "source": [
    "df_maintenance = pd.read_csv(\"Maintenance.csv\")\n"
   ]
  },
  {
   "cell_type": "code",
   "execution_count": 6,
   "id": "53c6cd0b",
   "metadata": {},
   "outputs": [],
   "source": [
    "df_maintenance['last_order_date'] = pd.to_datetime(df_maintenance['last_order_date'])\n"
   ]
  },
  {
   "cell_type": "code",
   "execution_count": 7,
   "id": "8fc27aff",
   "metadata": {},
   "outputs": [],
   "source": [
    "six = df_maintenance['last_order_date'].max() - pd.DateOffset(months=6)"
   ]
  },
  {
   "cell_type": "code",
   "execution_count": 8,
   "id": "df58f54f",
   "metadata": {},
   "outputs": [],
   "source": [
    "six = df_maintenance['last_order_date'].max() - pd.DateOffset(months=6)\n",
    "bloc_a = df_maintenance.loc[df_maintenance['last_order_date'] >= six, :]\n"
   ]
  },
  {
   "cell_type": "code",
   "execution_count": 9,
   "id": "3562aebf",
   "metadata": {},
   "outputs": [
    {
     "name": "stdout",
     "output_type": "stream",
     "text": [
      "<class 'pandas.core.frame.DataFrame'>\n",
      "Int64Index: 8198 entries, 2 to 19999\n",
      "Data columns (total 20 columns):\n",
      " #   Column                                        Non-Null Count  Dtype         \n",
      "---  ------                                        --------------  -----         \n",
      " 0   mean_delivery_time                            8198 non-null   float64       \n",
      " 1   mean_review_score                             8198 non-null   float64       \n",
      " 2   mean_order_price                              8198 non-null   float64       \n",
      " 3   mean_order_count                              8198 non-null   float64       \n",
      " 4   num_products                                  8198 non-null   float64       \n",
      " 5   most_common_payment_type_boleto               8198 non-null   float64       \n",
      " 6   most_common_payment_type_credit_card          8198 non-null   float64       \n",
      " 7   most_common_payment_type_infrequent_sklearn   8198 non-null   float64       \n",
      " 8   city_rio de janeiro                           8198 non-null   float64       \n",
      " 9   city_sao paulo                                8198 non-null   float64       \n",
      " 10  df_product_categories_beleza_saude            8198 non-null   float64       \n",
      " 11  df_product_categories_cama_mesa_banho         8198 non-null   float64       \n",
      " 12  df_product_categories_esporte_lazer           8198 non-null   float64       \n",
      " 13  df_product_categories_informatica_acessorios  8198 non-null   float64       \n",
      " 14  df_product_categories_moveis_decoracao        8198 non-null   float64       \n",
      " 15  df_product_categories_relogios_presentes      8198 non-null   float64       \n",
      " 16  df_product_categories_utilidades_domesticas   8198 non-null   float64       \n",
      " 17  df_product_categories_infrequent_sklearn      8198 non-null   float64       \n",
      " 18  cluster                                       8198 non-null   int64         \n",
      " 19  last_order_date                               8198 non-null   datetime64[ns]\n",
      "dtypes: datetime64[ns](1), float64(18), int64(1)\n",
      "memory usage: 1.3 MB\n"
     ]
    }
   ],
   "source": [
    "bloc_a.info()"
   ]
  },
  {
   "cell_type": "code",
   "execution_count": 10,
   "id": "a400d866",
   "metadata": {},
   "outputs": [],
   "source": [
    "min_six = df_maintenance['last_order_date'].max() - pd.DateOffset(months=6)"
   ]
  },
  {
   "cell_type": "code",
   "execution_count": 11,
   "id": "be1c2c33",
   "metadata": {},
   "outputs": [],
   "source": [
    "min_six = df_maintenance['last_order_date'].max() - pd.DateOffset(months=6)\n",
    "cluster_a = df_maintenance.loc[df_maintenance['last_order_date'] <= min_six, :]\n"
   ]
  },
  {
   "cell_type": "code",
   "execution_count": 12,
   "id": "91890aad",
   "metadata": {},
   "outputs": [
    {
     "name": "stdout",
     "output_type": "stream",
     "text": [
      "<class 'pandas.core.frame.DataFrame'>\n",
      "Int64Index: 11802 entries, 0 to 19996\n",
      "Data columns (total 20 columns):\n",
      " #   Column                                        Non-Null Count  Dtype         \n",
      "---  ------                                        --------------  -----         \n",
      " 0   mean_delivery_time                            11802 non-null  float64       \n",
      " 1   mean_review_score                             11802 non-null  float64       \n",
      " 2   mean_order_price                              11802 non-null  float64       \n",
      " 3   mean_order_count                              11802 non-null  float64       \n",
      " 4   num_products                                  11802 non-null  float64       \n",
      " 5   most_common_payment_type_boleto               11802 non-null  float64       \n",
      " 6   most_common_payment_type_credit_card          11802 non-null  float64       \n",
      " 7   most_common_payment_type_infrequent_sklearn   11802 non-null  float64       \n",
      " 8   city_rio de janeiro                           11802 non-null  float64       \n",
      " 9   city_sao paulo                                11802 non-null  float64       \n",
      " 10  df_product_categories_beleza_saude            11802 non-null  float64       \n",
      " 11  df_product_categories_cama_mesa_banho         11802 non-null  float64       \n",
      " 12  df_product_categories_esporte_lazer           11802 non-null  float64       \n",
      " 13  df_product_categories_informatica_acessorios  11802 non-null  float64       \n",
      " 14  df_product_categories_moveis_decoracao        11802 non-null  float64       \n",
      " 15  df_product_categories_relogios_presentes      11802 non-null  float64       \n",
      " 16  df_product_categories_utilidades_domesticas   11802 non-null  float64       \n",
      " 17  df_product_categories_infrequent_sklearn      11802 non-null  float64       \n",
      " 18  cluster                                       11802 non-null  int64         \n",
      " 19  last_order_date                               11802 non-null  datetime64[ns]\n",
      "dtypes: datetime64[ns](1), float64(18), int64(1)\n",
      "memory usage: 1.9 MB\n"
     ]
    }
   ],
   "source": [
    "cluster_a.info()"
   ]
  },
  {
   "cell_type": "code",
   "execution_count": 13,
   "id": "4b28a1cf",
   "metadata": {},
   "outputs": [
    {
     "data": {
      "image/png": "[encoded data removed]",
      "text/plain": [
       "<Figure size 640x480 with 1 Axes>"
      ]
     },
     "metadata": {},
     "output_type": "display_data"
    }
   ],
   "source": [
    "from sklearn.cluster import AgglomerativeClustering\n",
    "#Permet le calcul ari entre deux ensembles d'étiquettes de cluster\n",
    "from sklearn.metrics import adjusted_rand_score\n",
    "\n",
    "# Création d'une liste vide pour stocker le ARI scores\n",
    "ari_scores = []\n",
    "\n",
    "# Création du cluster initial pour le test de maintenance last_order_date est retiré car par utilisé pour le cluster initial\n",
    "cluster_a = AgglomerativeClustering(n_clusters=9, linkage='ward', metric='euclidean').fit(bloc_a.drop('last_order_date', axis=1))\n",
    "#Récupère les étiquettes de cluster_a\n",
    "cluster_a_labels = cluster_a.labels_\n",
    "#Pour chaque bloc de données suivant\n",
    "for i in range(1, 7):\n",
    "    \n",
    "    # Sélectionne le bloc de données correspondant aux commandes passées au cours des i derniers mois moins actuel - i mois et date actuel + i 1 mois\n",
    "    block_b = df_maintenance.loc[(df_maintenance['last_order_date'] <= min_six) & (df_maintenance['last_order_date'] > min_six - pd.DateOffset(months=i)), :]\n",
    "    \n",
    "    #  Concatène les deux blocs de données pour former un nouveau bloc de données donnée tous les mois précedent + mois actuel\n",
    "    block_a1 = pd.concat([bloc_a, block_b])\n",
    "    # Crée un nouveau cluster sur le nouveau bloc de données bloc_a1. Les paramètres sont les mêmes que pour le premier cluster\n",
    "    cluster_a1 = AgglomerativeClustering(n_clusters=9, linkage='ward', metric='euclidean').fit(block_a1.drop('last_order_date', axis=1))\n",
    "    \n",
    "    # Récupère les étiquettes de cluster_a1\n",
    "    cluster_a1_labels = cluster_a1.labels_\n",
    "  \n",
    "    # Calcule le score ARI entre l'ensemble d'étiquettes de cluster du premier bloc et du nouveau bloc de données.\n",
    "    ari_score = adjusted_rand_score(cluster_a_labels, cluster_a1_labels[:len(cluster_a_labels)])\n",
    "    \n",
    "    # Ajouter les score à la list ari_score\n",
    "    ari_scores.append(ari_score)\n",
    "    \n",
    "    # Définit le nouveau cluster comme le cluster original pour la prochaine itération\n",
    "    cluster_a = cluster_a1\n",
    "    cluster_a_labels = cluster_a.labels_\n",
    "    block_a = block_a1\n",
    "    \n",
    "# Afficher dans un graphique le score ari\n",
    "plt.plot(range(1, 7), ari_scores)\n",
    "plt.xlabel('Months')\n",
    "plt.ylabel('ARI Score')\n",
    "plt.show()"
   ]
  },
  {
   "cell_type": "code",
   "execution_count": null,
   "id": "2774955c",
   "metadata": {},
   "outputs": [],
   "source": []
  }
 ],
 "metadata": {
  "kernelspec": {
   "display_name": "Python 3 (ipykernel)",
   "language": "python",
   "name": "python3"
  },
  "language_info": {
   "codemirror_mode": {
    "name": "ipython",
    "version": 3
   },
   "file_extension": ".py",
   "mimetype": "text/x-python",
   "name": "python",
   "nbconvert_exporter": "python",
   "pygments_lexer": "ipython3",
   "version": "3.10.9"
  },
  "toc": {
   "base_numbering": 1,
   "nav_menu": {},
   "number_sections": true,
   "sideBar": true,
   "skip_h1_title": false,
   "title_cell": "Table of Contents",
   "title_sidebar": "Contents",
   "toc_cell": false,
   "toc_position": {},
   "toc_section_display": true,
   "toc_window_display": false
  },
  "varInspector": {
   "cols": {
    "lenName": 16,
    "lenType": 16,
    "lenVar": 40
   },
   "kernels_config": {
    "python": {
     "delete_cmd_postfix": "",
     "delete_cmd_prefix": "del ",
     "library": "var_list.py",
     "varRefreshCmd": "print(var_dic_list())"
    },
    "r": {
     "delete_cmd_postfix": ") ",
     "delete_cmd_prefix": "rm(",
     "library": "var_list.r",
     "varRefreshCmd": "cat(var_dic_list()) "
    }
   },
   "types_to_exclude": [
    "module",
    "function",
    "builtin_function_or_method",
    "instance",
    "_Feature"
   ],
   "window_display": false
  }
 },
 "nbformat": 4,
 "nbformat_minor": 5
}
